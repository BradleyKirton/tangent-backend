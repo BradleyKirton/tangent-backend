{
 "cells": [
  {
   "cell_type": "markdown",
   "metadata": {},
   "source": [
    "## Load fixtures using the API"
   ]
  },
  {
   "cell_type": "code",
   "execution_count": 1,
   "metadata": {},
   "outputs": [],
   "source": [
    "import json\n",
    "import copy\n",
    "import getpass\n",
    "import requests"
   ]
  },
  {
   "cell_type": "code",
   "execution_count": 13,
   "metadata": {},
   "outputs": [],
   "source": [
    "import json\n",
    "import copy\n",
    "import getpass\n",
    "import requests\n",
    "\n",
    "with open(r'../initial_fixtures.json', 'r') as f:\n",
    "    fixtures = json.load(f)\n",
    "    \n",
    "users = []\n",
    "profiles = []\n",
    "\n",
    "\n",
    "def get_about_me():\n",
    "    uri = 'https://baconipsum.com/api/?type=meat-and-filler'\n",
    "    resp = requests.get(uri)\n",
    "    return resp.json()[0]\n",
    "\n",
    "for user in fixtures:\n",
    "    profile = user.pop('profile')\n",
    "    profile.pop('position')\n",
    "    profile['about_me'] = get_about_me()\n",
    "    \n",
    "    users.append(user)\n",
    "    profiles.append(profile)"
   ]
  },
  {
   "cell_type": "code",
   "execution_count": 14,
   "metadata": {},
   "outputs": [
    {
     "data": {
      "text/plain": [
       "(25, 25)"
      ]
     },
     "execution_count": 14,
     "metadata": {},
     "output_type": "execute_result"
    }
   ],
   "source": [
    "len(profiles), len(users)"
   ]
  },
  {
   "cell_type": "code",
   "execution_count": 31,
   "metadata": {},
   "outputs": [],
   "source": [
    "pictures = []\n",
    "for index, (user, profile) in enumerate(zip(users, profiles)):\n",
    "    if profile['gender'] == 'M':\n",
    "        uri = f'https://randomuser.me/api/portraits/men/{index}.jpg'\n",
    "    else:\n",
    "        uri = f'https://randomuser.me/api/portraits/women/{index}.jpg'\n",
    "        \n",
    "    pictures.append(\n",
    "        {\n",
    "            'username': user['username'],\n",
    "            'picture_uri': uri\n",
    "        }\n",
    "    )"
   ]
  },
  {
   "cell_type": "code",
   "execution_count": 46,
   "metadata": {},
   "outputs": [],
   "source": [
    "import random\n",
    "    \n",
    "for user, profile in zip(users, profiles):\n",
    "    njobs = random.randint(1, 5)\n",
    "    \n",
    "    for i in range(njobs):\n",
    "        pl = random.choice(plevels)\n",
    "        pt = random.choice(ptypes)"
   ]
  }
 ],
 "metadata": {
  "kernelspec": {
   "display_name": "Python 3",
   "language": "python",
   "name": "python3"
  },
  "language_info": {
   "codemirror_mode": {
    "name": "ipython",
    "version": 3
   },
   "file_extension": ".py",
   "mimetype": "text/x-python",
   "name": "python",
   "nbconvert_exporter": "python",
   "pygments_lexer": "ipython3",
   "version": "3.6.5"
  }
 },
 "nbformat": 4,
 "nbformat_minor": 2
}
