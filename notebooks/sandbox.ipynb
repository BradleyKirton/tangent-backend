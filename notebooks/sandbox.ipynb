{
 "cells": [
  {
   "cell_type": "markdown",
   "metadata": {},
   "source": [
    "## Load fixtures using the API"
   ]
  },
  {
   "cell_type": "code",
   "execution_count": 1,
   "metadata": {},
   "outputs": [],
   "source": [
    "import json\n",
    "import copy\n",
    "import getpass\n",
    "import requests"
   ]
  },
  {
   "cell_type": "code",
   "execution_count": 3,
   "metadata": {},
   "outputs": [
    {
     "name": "stdout",
     "output_type": "stream",
     "text": [
      "lhillan0\n",
      "mscamadin1\n",
      "ejone2\n",
      "jcausbey3\n",
      "cviggers4\n",
      "sadolf5\n",
      "fworsalls6\n",
      "lhentzer7\n",
      "oferrao8\n",
      "bbatchelar9\n",
      "jsoutena\n",
      "ecourtmanb\n",
      "adodsleyc\n",
      "seliad\n",
      "rautone\n",
      "alilburnef\n",
      "ginottg\n",
      "eonearyh\n",
      "vbucheri\n",
      "dnoyesj\n",
      "zsisselk\n",
      "csauvenl\n",
      "araffanm\n",
      "lworvelln\n",
      "rrubinfeldo\n"
     ]
    }
   ],
   "source": [
    "import json\n",
    "import copy\n",
    "import getpass\n",
    "import requests\n",
    "\n",
    "with open(r'../initial_fixtures.json', 'r') as f:\n",
    "    fixtures = json.load(f)\n",
    "    \n",
    "for fixture in fixtures:\n",
    "    user = copy.deepcopy(fixture)\n",
    "    profile = user.pop('profile')\n",
    "    position = profile.pop('position')\n",
    "    \n",
    "    user.pop('id')\n",
    "    profile.pop('id')\n",
    "    position.pop('id')\n",
    "    print(user['username'])\n",
    "#     user_instance = User.objects.create(**user)\n",
    "#     Profile.objects.create(user=user_instance, **profile)\n",
    "#     Position.objects.create(user=user_instance, **position)\n",
    "    \n",
    "    \n",
    "    "
   ]
  },
  {
   "cell_type": "code",
   "execution_count": 42,
   "metadata": {},
   "outputs": [],
   "source": []
  },
  {
   "cell_type": "code",
   "execution_count": 43,
   "metadata": {},
   "outputs": [],
   "source": [
    "phone_number = employee['phone_number']\n",
    "email = employee['email']\n",
    "github_user = employee['github_user']\n",
    "birth_date = employee['birth_date']\n",
    "gender = employee['gender']\n",
    "race = employee['race']"
   ]
  },
  {
   "cell_type": "code",
   "execution_count": 47,
   "metadata": {},
   "outputs": [],
   "source": [
    "name = position['name']\n",
    "level = position['level']"
   ]
  },
  {
   "cell_type": "code",
   "execution_count": 48,
   "metadata": {},
   "outputs": [
    {
     "data": {
      "text/plain": [
       "'Back-end Developer'"
      ]
     },
     "execution_count": 48,
     "metadata": {},
     "output_type": "execute_result"
    }
   ],
   "source": [
    "name"
   ]
  }
 ],
 "metadata": {
  "kernelspec": {
   "display_name": "Python 3",
   "language": "python",
   "name": "python3"
  },
  "language_info": {
   "codemirror_mode": {
    "name": "ipython",
    "version": 3
   },
   "file_extension": ".py",
   "mimetype": "text/x-python",
   "name": "python",
   "nbconvert_exporter": "python",
   "pygments_lexer": "ipython3",
   "version": "3.6.5"
  }
 },
 "nbformat": 4,
 "nbformat_minor": 2
}
